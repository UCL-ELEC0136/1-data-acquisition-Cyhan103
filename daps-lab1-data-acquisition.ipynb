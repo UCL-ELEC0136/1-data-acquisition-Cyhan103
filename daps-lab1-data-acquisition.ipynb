{
 "cells": [
  {
   "cell_type": "markdown",
   "metadata": {
    "id": "jenv-YgSElT1"
   },
   "source": [
    "# Task 1: Small case scenario of dataset analysis"
   ]
  },
  {
   "cell_type": "markdown",
   "metadata": {
    "id": "pZ6YahZgAZvB"
   },
   "source": [
    "## 1.1 - Create a dataset (The Tate Collection)\n",
    "As a first example, we will create our own small dataset. In particular, the dataset will consist of 10 artists which are present in the Tate Collection along with the corresponding year of birth, year of death, biological gender and number of artworks.\n",
    "\n",
    "|          Name         | Gender |   Year_Birth  |   Year_Death  | N_works |\n",
    "|-----------------------|--------|---------------|---------------|---------|\n",
    "|     Beuys, Joseph     |  Male  |      1921\t |      1986     |   588   |\n",
    "|    Constable, John    |  Male  |      1776\t |      1837\t |   249   |\n",
    "|   Daniell, William    |  Male  |      1769\t |      1837\t |   612   |\n",
    "|   Forbes, Elizabeth   | Female |      1859\t |      1912\t |   120   |\n",
    "|     Flaxman, John     |  Male  |      1755\t |      1826\t |   287   |\n",
    "|    Phillips, Thomas   |  Male  |      1770\t |      1845\t |   274   |\n",
    "| Paolozzi, Sir Eduardo |  Male  |      1924\t |      2005\t |   385   |\n",
    "|     Schendel, Mira    | Female |      1919\t |      1988\t |    3    |\n",
    "|    Turner, William    |  Male  |      1775\t |      1851\t |  1861   |\n",
    "|      Warhol, Andy     |  Male  |      1928\t |      1987\t |   272   |\n"
   ]
  },
  {
   "cell_type": "markdown",
   "metadata": {
    "id": "TV1sgIOzAZvD"
   },
   "source": [
    "**_[TO DO]_**: Let's create a DataFrame named **TateDataset** with the information showed in the above table.\n",
    "\n",
    "**Note:** You can create arrays for each column and then build the DataFrame.\n",
    "Remember to import the required libraries!"
   ]
  },
  {
   "cell_type": "code",
   "execution_count": 1,
   "metadata": {
    "cellView": "form",
    "executionInfo": {
     "elapsed": 428,
     "status": "ok",
     "timestamp": 1603899361329,
     "user": {
      "displayName": "Sephora Madjiheurem",
      "photoUrl": "https://lh3.googleusercontent.com/a-/AOh14GgieP2Hh5x42748iuuSEnAl8BYCWGSmOzJ-ypgSaQ=s64",
      "userId": "05055971560005673839"
     },
     "user_tz": 0
    },
    "id": "NxkzhjIGAZvF"
   },
   "outputs": [],
   "source": [
    "# @title Imports\n",
    "import numpy as np\n",
    "import pandas as pd"
   ]
  },
  {
   "cell_type": "code",
   "execution_count": 2,
   "metadata": {
    "id": "FWsJFvTQB3hX"
   },
   "outputs": [
    {
     "data": {
      "text/html": [
       "<div>\n",
       "<style scoped>\n",
       "    .dataframe tbody tr th:only-of-type {\n",
       "        vertical-align: middle;\n",
       "    }\n",
       "\n",
       "    .dataframe tbody tr th {\n",
       "        vertical-align: top;\n",
       "    }\n",
       "\n",
       "    .dataframe thead th {\n",
       "        text-align: right;\n",
       "    }\n",
       "</style>\n",
       "<table border=\"1\" class=\"dataframe\">\n",
       "  <thead>\n",
       "    <tr style=\"text-align: right;\">\n",
       "      <th></th>\n",
       "      <th>Name</th>\n",
       "      <th>Gender</th>\n",
       "      <th>Year_Birth</th>\n",
       "      <th>Year_Death</th>\n",
       "      <th>N_works</th>\n",
       "    </tr>\n",
       "  </thead>\n",
       "  <tbody>\n",
       "    <tr>\n",
       "      <th>0</th>\n",
       "      <td>Beuys, Joseph</td>\n",
       "      <td>Male</td>\n",
       "      <td>1921</td>\n",
       "      <td>1986</td>\n",
       "      <td>588</td>\n",
       "    </tr>\n",
       "    <tr>\n",
       "      <th>1</th>\n",
       "      <td>Constable, John</td>\n",
       "      <td>Male</td>\n",
       "      <td>1776</td>\n",
       "      <td>1837</td>\n",
       "      <td>249</td>\n",
       "    </tr>\n",
       "    <tr>\n",
       "      <th>2</th>\n",
       "      <td>Daniell, William</td>\n",
       "      <td>Male</td>\n",
       "      <td>1769</td>\n",
       "      <td>1837</td>\n",
       "      <td>612</td>\n",
       "    </tr>\n",
       "    <tr>\n",
       "      <th>3</th>\n",
       "      <td>Forbes, Elizabeth</td>\n",
       "      <td>Female</td>\n",
       "      <td>1859</td>\n",
       "      <td>1912</td>\n",
       "      <td>120</td>\n",
       "    </tr>\n",
       "    <tr>\n",
       "      <th>4</th>\n",
       "      <td>Flaxman, John</td>\n",
       "      <td>Male</td>\n",
       "      <td>1755</td>\n",
       "      <td>1826</td>\n",
       "      <td>287</td>\n",
       "    </tr>\n",
       "    <tr>\n",
       "      <th>5</th>\n",
       "      <td>Phillips, Thomas</td>\n",
       "      <td>Male</td>\n",
       "      <td>1770</td>\n",
       "      <td>1845</td>\n",
       "      <td>274</td>\n",
       "    </tr>\n",
       "    <tr>\n",
       "      <th>6</th>\n",
       "      <td>Paolozzi, Sir Eduardo</td>\n",
       "      <td>Male</td>\n",
       "      <td>1924</td>\n",
       "      <td>2005</td>\n",
       "      <td>385</td>\n",
       "    </tr>\n",
       "    <tr>\n",
       "      <th>7</th>\n",
       "      <td>Schendel, Mira</td>\n",
       "      <td>Female</td>\n",
       "      <td>1919</td>\n",
       "      <td>1988</td>\n",
       "      <td>3</td>\n",
       "    </tr>\n",
       "    <tr>\n",
       "      <th>8</th>\n",
       "      <td>Turner, William</td>\n",
       "      <td>Male</td>\n",
       "      <td>1775</td>\n",
       "      <td>1851</td>\n",
       "      <td>1861</td>\n",
       "    </tr>\n",
       "    <tr>\n",
       "      <th>9</th>\n",
       "      <td>Warhol, Andy</td>\n",
       "      <td>Male</td>\n",
       "      <td>1928</td>\n",
       "      <td>1987</td>\n",
       "      <td>272</td>\n",
       "    </tr>\n",
       "  </tbody>\n",
       "</table>\n",
       "</div>"
      ],
      "text/plain": [
       "                    Name  Gender Year_Birth Year_Death N_works\n",
       "0          Beuys, Joseph    Male       1921       1986     588\n",
       "1        Constable, John    Male       1776       1837     249\n",
       "2       Daniell, William    Male       1769       1837     612\n",
       "3      Forbes, Elizabeth  Female       1859       1912     120\n",
       "4          Flaxman, John    Male       1755       1826     287\n",
       "5       Phillips, Thomas    Male       1770       1845     274\n",
       "6  Paolozzi, Sir Eduardo    Male       1924       2005     385\n",
       "7         Schendel, Mira  Female       1919       1988       3\n",
       "8        Turner, William    Male       1775       1851    1861\n",
       "9           Warhol, Andy    Male       1928       1987     272"
      ]
     },
     "execution_count": 2,
     "metadata": {},
     "output_type": "execute_result"
    }
   ],
   "source": [
    "### TODO\n",
    "dataset = {\"Name\":['Beuys, Joseph','Constable, John','Daniell, William','Forbes, Elizabeth','Flaxman, John','Phillips, Thomas','Paolozzi, Sir Eduardo','Schendel, Mira','Turner, William','Warhol, Andy'],\\\n",
    "    \"Gender\":['Male','Male','Male','Female','Male','Male','Male','Female','Male','Male'],\\\n",
    "    \"Year_Birth\":['1921','1776','1769','1859','1755','1770','1924','1919','1775','1928'],\\\n",
    "    \"Year_Death\":['1986','1837','1837','1912','1826','1845','2005','1988','1851','1987'],\\\n",
    "    \"N_works\":['588','249','612','120','287','274','385','3','1861','272']\n",
    "    }\n",
    "tate_dataset  = pd.DataFrame(dataset)\n",
    "tate_dataset"
   ]
  },
  {
   "cell_type": "markdown",
   "metadata": {
    "id": "0P3DpT-VAZvO"
   },
   "source": [
    "## 1.2 - Data Acquisition (local file)\n",
    "\n",
    "Data acquisition is a process of loading and reading data from various sources. We will learn how to export and read data from a local file in different format using  **Pandas** package. \n",
    "\n",
    "A file format is a standardised way in which information is encoded to be stored in a file. Some examples of file formats are: CSV, XLSX, and PKL. \n",
    "\n",
    "Let's practice with some examples.\n",
    "\n",
    "### .CSV - Comma Separated Values\n",
    "\n",
    "CSV is one of the most popular spreadsheet file format. In this kind of file, data is stored in cells. Each cell is organized in rows and columns. A column in the spreadsheet file can have different types. \n",
    "\n",
    "Let us look at how to create a CSV file. We can export a DataFrame with the Pandas function `to_csv()`. The file will be saved in the same location of this notebook unless specified otherwise. We can name the file **TateData.csv**.\n",
    "\n",
    "**Note:** Once you have run the following cell, check the output file ."
   ]
  },
  {
   "cell_type": "code",
   "execution_count": 3,
   "metadata": {
    "id": "DcFThhwRAZvP"
   },
   "outputs": [],
   "source": [
    "tate_dataset.to_csv('tate_dataset.csv', index=False, header=True)"
   ]
  },
  {
   "cell_type": "markdown",
   "metadata": {
    "id": "54BZQJs8AZvU"
   },
   "source": [
    "To pull in the csv file, we will use the Pandas function `read_csv()`. We will import the previous file in a new DataFrame.\n",
    "\n",
    "**Note:**  Depending on where you save your notebooks, you may need to modify the location below."
   ]
  },
  {
   "cell_type": "code",
   "execution_count": 4,
   "metadata": {
    "id": "PcO3epU5AZvV"
   },
   "outputs": [
    {
     "data": {
      "text/html": [
       "<div>\n",
       "<style scoped>\n",
       "    .dataframe tbody tr th:only-of-type {\n",
       "        vertical-align: middle;\n",
       "    }\n",
       "\n",
       "    .dataframe tbody tr th {\n",
       "        vertical-align: top;\n",
       "    }\n",
       "\n",
       "    .dataframe thead th {\n",
       "        text-align: right;\n",
       "    }\n",
       "</style>\n",
       "<table border=\"1\" class=\"dataframe\">\n",
       "  <thead>\n",
       "    <tr style=\"text-align: right;\">\n",
       "      <th></th>\n",
       "      <th>Name</th>\n",
       "      <th>Gender</th>\n",
       "      <th>Year_Birth</th>\n",
       "      <th>Year_Death</th>\n",
       "      <th>N_works</th>\n",
       "    </tr>\n",
       "  </thead>\n",
       "  <tbody>\n",
       "    <tr>\n",
       "      <th>0</th>\n",
       "      <td>Beuys, Joseph</td>\n",
       "      <td>Male</td>\n",
       "      <td>1921</td>\n",
       "      <td>1986</td>\n",
       "      <td>588</td>\n",
       "    </tr>\n",
       "    <tr>\n",
       "      <th>1</th>\n",
       "      <td>Constable, John</td>\n",
       "      <td>Male</td>\n",
       "      <td>1776</td>\n",
       "      <td>1837</td>\n",
       "      <td>249</td>\n",
       "    </tr>\n",
       "    <tr>\n",
       "      <th>2</th>\n",
       "      <td>Daniell, William</td>\n",
       "      <td>Male</td>\n",
       "      <td>1769</td>\n",
       "      <td>1837</td>\n",
       "      <td>612</td>\n",
       "    </tr>\n",
       "    <tr>\n",
       "      <th>3</th>\n",
       "      <td>Forbes, Elizabeth</td>\n",
       "      <td>Female</td>\n",
       "      <td>1859</td>\n",
       "      <td>1912</td>\n",
       "      <td>120</td>\n",
       "    </tr>\n",
       "    <tr>\n",
       "      <th>4</th>\n",
       "      <td>Flaxman, John</td>\n",
       "      <td>Male</td>\n",
       "      <td>1755</td>\n",
       "      <td>1826</td>\n",
       "      <td>287</td>\n",
       "    </tr>\n",
       "    <tr>\n",
       "      <th>5</th>\n",
       "      <td>Phillips, Thomas</td>\n",
       "      <td>Male</td>\n",
       "      <td>1770</td>\n",
       "      <td>1845</td>\n",
       "      <td>274</td>\n",
       "    </tr>\n",
       "    <tr>\n",
       "      <th>6</th>\n",
       "      <td>Paolozzi, Sir Eduardo</td>\n",
       "      <td>Male</td>\n",
       "      <td>1924</td>\n",
       "      <td>2005</td>\n",
       "      <td>385</td>\n",
       "    </tr>\n",
       "    <tr>\n",
       "      <th>7</th>\n",
       "      <td>Schendel, Mira</td>\n",
       "      <td>Female</td>\n",
       "      <td>1919</td>\n",
       "      <td>1988</td>\n",
       "      <td>3</td>\n",
       "    </tr>\n",
       "    <tr>\n",
       "      <th>8</th>\n",
       "      <td>Turner, William</td>\n",
       "      <td>Male</td>\n",
       "      <td>1775</td>\n",
       "      <td>1851</td>\n",
       "      <td>1861</td>\n",
       "    </tr>\n",
       "    <tr>\n",
       "      <th>9</th>\n",
       "      <td>Warhol, Andy</td>\n",
       "      <td>Male</td>\n",
       "      <td>1928</td>\n",
       "      <td>1987</td>\n",
       "      <td>272</td>\n",
       "    </tr>\n",
       "  </tbody>\n",
       "</table>\n",
       "</div>"
      ],
      "text/plain": [
       "                    Name  Gender  Year_Birth  Year_Death  N_works\n",
       "0          Beuys, Joseph    Male        1921        1986      588\n",
       "1        Constable, John    Male        1776        1837      249\n",
       "2       Daniell, William    Male        1769        1837      612\n",
       "3      Forbes, Elizabeth  Female        1859        1912      120\n",
       "4          Flaxman, John    Male        1755        1826      287\n",
       "5       Phillips, Thomas    Male        1770        1845      274\n",
       "6  Paolozzi, Sir Eduardo    Male        1924        2005      385\n",
       "7         Schendel, Mira  Female        1919        1988        3\n",
       "8        Turner, William    Male        1775        1851     1861\n",
       "9           Warhol, Andy    Male        1928        1987      272"
      ]
     },
     "execution_count": 4,
     "metadata": {},
     "output_type": "execute_result"
    }
   ],
   "source": [
    "tate_1 = pd.read_csv('tate_dataset.csv')\n",
    "tate_1"
   ]
  },
  {
   "cell_type": "markdown",
   "metadata": {
    "id": "1CmXNd9jAZva"
   },
   "source": [
    "When we create the .CSV file, the only parameter we have used is **index**. \n",
    "\n",
    "**[TO DO]** What happens if we set the *index* parameter to True? And if you set also the parameter **header** to False?\n",
    "Try by yourself. "
   ]
  },
  {
   "cell_type": "code",
   "execution_count": 5,
   "metadata": {
    "id": "egR7HZLaAZvb"
   },
   "outputs": [
    {
     "data": {
      "text/html": [
       "<div>\n",
       "<style scoped>\n",
       "    .dataframe tbody tr th:only-of-type {\n",
       "        vertical-align: middle;\n",
       "    }\n",
       "\n",
       "    .dataframe tbody tr th {\n",
       "        vertical-align: top;\n",
       "    }\n",
       "\n",
       "    .dataframe thead th {\n",
       "        text-align: right;\n",
       "    }\n",
       "</style>\n",
       "<table border=\"1\" class=\"dataframe\">\n",
       "  <thead>\n",
       "    <tr style=\"text-align: right;\">\n",
       "      <th></th>\n",
       "      <th>0</th>\n",
       "      <th>Beuys, Joseph</th>\n",
       "      <th>Male</th>\n",
       "      <th>1921</th>\n",
       "      <th>1986</th>\n",
       "      <th>588</th>\n",
       "    </tr>\n",
       "  </thead>\n",
       "  <tbody>\n",
       "    <tr>\n",
       "      <th>0</th>\n",
       "      <td>1</td>\n",
       "      <td>Constable, John</td>\n",
       "      <td>Male</td>\n",
       "      <td>1776</td>\n",
       "      <td>1837</td>\n",
       "      <td>249</td>\n",
       "    </tr>\n",
       "    <tr>\n",
       "      <th>1</th>\n",
       "      <td>2</td>\n",
       "      <td>Daniell, William</td>\n",
       "      <td>Male</td>\n",
       "      <td>1769</td>\n",
       "      <td>1837</td>\n",
       "      <td>612</td>\n",
       "    </tr>\n",
       "    <tr>\n",
       "      <th>2</th>\n",
       "      <td>3</td>\n",
       "      <td>Forbes, Elizabeth</td>\n",
       "      <td>Female</td>\n",
       "      <td>1859</td>\n",
       "      <td>1912</td>\n",
       "      <td>120</td>\n",
       "    </tr>\n",
       "    <tr>\n",
       "      <th>3</th>\n",
       "      <td>4</td>\n",
       "      <td>Flaxman, John</td>\n",
       "      <td>Male</td>\n",
       "      <td>1755</td>\n",
       "      <td>1826</td>\n",
       "      <td>287</td>\n",
       "    </tr>\n",
       "    <tr>\n",
       "      <th>4</th>\n",
       "      <td>5</td>\n",
       "      <td>Phillips, Thomas</td>\n",
       "      <td>Male</td>\n",
       "      <td>1770</td>\n",
       "      <td>1845</td>\n",
       "      <td>274</td>\n",
       "    </tr>\n",
       "    <tr>\n",
       "      <th>5</th>\n",
       "      <td>6</td>\n",
       "      <td>Paolozzi, Sir Eduardo</td>\n",
       "      <td>Male</td>\n",
       "      <td>1924</td>\n",
       "      <td>2005</td>\n",
       "      <td>385</td>\n",
       "    </tr>\n",
       "    <tr>\n",
       "      <th>6</th>\n",
       "      <td>7</td>\n",
       "      <td>Schendel, Mira</td>\n",
       "      <td>Female</td>\n",
       "      <td>1919</td>\n",
       "      <td>1988</td>\n",
       "      <td>3</td>\n",
       "    </tr>\n",
       "    <tr>\n",
       "      <th>7</th>\n",
       "      <td>8</td>\n",
       "      <td>Turner, William</td>\n",
       "      <td>Male</td>\n",
       "      <td>1775</td>\n",
       "      <td>1851</td>\n",
       "      <td>1861</td>\n",
       "    </tr>\n",
       "    <tr>\n",
       "      <th>8</th>\n",
       "      <td>9</td>\n",
       "      <td>Warhol, Andy</td>\n",
       "      <td>Male</td>\n",
       "      <td>1928</td>\n",
       "      <td>1987</td>\n",
       "      <td>272</td>\n",
       "    </tr>\n",
       "  </tbody>\n",
       "</table>\n",
       "</div>"
      ],
      "text/plain": [
       "   0          Beuys, Joseph    Male  1921  1986   588\n",
       "0  1        Constable, John    Male  1776  1837   249\n",
       "1  2       Daniell, William    Male  1769  1837   612\n",
       "2  3      Forbes, Elizabeth  Female  1859  1912   120\n",
       "3  4          Flaxman, John    Male  1755  1826   287\n",
       "4  5       Phillips, Thomas    Male  1770  1845   274\n",
       "5  6  Paolozzi, Sir Eduardo    Male  1924  2005   385\n",
       "6  7         Schendel, Mira  Female  1919  1988     3\n",
       "7  8        Turner, William    Male  1775  1851  1861\n",
       "8  9           Warhol, Andy    Male  1928  1987   272"
      ]
     },
     "execution_count": 5,
     "metadata": {},
     "output_type": "execute_result"
    }
   ],
   "source": [
    "### TODO\n",
    "tate_dataset.to_csv('tate_dataset_reverse.csv', index=True, header=False)\n",
    "tate_re = pd.read_csv('tate_dataset_reverse.csv')\n",
    "tate_re"
   ]
  },
  {
   "cell_type": "markdown",
   "metadata": {
    "id": "0tHt7lPFAZvf"
   },
   "source": [
    "Delete the csv file now that we are done using it."
   ]
  },
  {
   "cell_type": "markdown",
   "metadata": {
    "id": "oQLf1Y_hAZvr"
   },
   "source": [
    "### pickle — Python object serialization\n",
    "\n",
    "This data format is Python-specific. This has the advantage that there are no restrictions imposed by external standards; however it means that non-Python programs may not be able to reconstruct pickled Python objects.\n",
    "\n"
   ]
  },
  {
   "cell_type": "code",
   "execution_count": 6,
   "metadata": {
    "id": "stKRPdBTAZvr"
   },
   "outputs": [],
   "source": [
    "import pickle\n",
    "\n",
    "tate_dataset.to_pickle('tate_dataset.pkl')\n"
   ]
  },
  {
   "cell_type": "code",
   "execution_count": 7,
   "metadata": {
    "id": "Rc7RsQeKAZvt"
   },
   "outputs": [
    {
     "data": {
      "text/html": [
       "<div>\n",
       "<style scoped>\n",
       "    .dataframe tbody tr th:only-of-type {\n",
       "        vertical-align: middle;\n",
       "    }\n",
       "\n",
       "    .dataframe tbody tr th {\n",
       "        vertical-align: top;\n",
       "    }\n",
       "\n",
       "    .dataframe thead th {\n",
       "        text-align: right;\n",
       "    }\n",
       "</style>\n",
       "<table border=\"1\" class=\"dataframe\">\n",
       "  <thead>\n",
       "    <tr style=\"text-align: right;\">\n",
       "      <th></th>\n",
       "      <th>Name</th>\n",
       "      <th>Gender</th>\n",
       "      <th>Year_Birth</th>\n",
       "      <th>Year_Death</th>\n",
       "      <th>N_works</th>\n",
       "    </tr>\n",
       "  </thead>\n",
       "  <tbody>\n",
       "    <tr>\n",
       "      <th>0</th>\n",
       "      <td>Beuys, Joseph</td>\n",
       "      <td>Male</td>\n",
       "      <td>1921</td>\n",
       "      <td>1986</td>\n",
       "      <td>588</td>\n",
       "    </tr>\n",
       "    <tr>\n",
       "      <th>1</th>\n",
       "      <td>Constable, John</td>\n",
       "      <td>Male</td>\n",
       "      <td>1776</td>\n",
       "      <td>1837</td>\n",
       "      <td>249</td>\n",
       "    </tr>\n",
       "    <tr>\n",
       "      <th>2</th>\n",
       "      <td>Daniell, William</td>\n",
       "      <td>Male</td>\n",
       "      <td>1769</td>\n",
       "      <td>1837</td>\n",
       "      <td>612</td>\n",
       "    </tr>\n",
       "    <tr>\n",
       "      <th>3</th>\n",
       "      <td>Forbes, Elizabeth</td>\n",
       "      <td>Female</td>\n",
       "      <td>1859</td>\n",
       "      <td>1912</td>\n",
       "      <td>120</td>\n",
       "    </tr>\n",
       "    <tr>\n",
       "      <th>4</th>\n",
       "      <td>Flaxman, John</td>\n",
       "      <td>Male</td>\n",
       "      <td>1755</td>\n",
       "      <td>1826</td>\n",
       "      <td>287</td>\n",
       "    </tr>\n",
       "    <tr>\n",
       "      <th>5</th>\n",
       "      <td>Phillips, Thomas</td>\n",
       "      <td>Male</td>\n",
       "      <td>1770</td>\n",
       "      <td>1845</td>\n",
       "      <td>274</td>\n",
       "    </tr>\n",
       "    <tr>\n",
       "      <th>6</th>\n",
       "      <td>Paolozzi, Sir Eduardo</td>\n",
       "      <td>Male</td>\n",
       "      <td>1924</td>\n",
       "      <td>2005</td>\n",
       "      <td>385</td>\n",
       "    </tr>\n",
       "    <tr>\n",
       "      <th>7</th>\n",
       "      <td>Schendel, Mira</td>\n",
       "      <td>Female</td>\n",
       "      <td>1919</td>\n",
       "      <td>1988</td>\n",
       "      <td>3</td>\n",
       "    </tr>\n",
       "    <tr>\n",
       "      <th>8</th>\n",
       "      <td>Turner, William</td>\n",
       "      <td>Male</td>\n",
       "      <td>1775</td>\n",
       "      <td>1851</td>\n",
       "      <td>1861</td>\n",
       "    </tr>\n",
       "    <tr>\n",
       "      <th>9</th>\n",
       "      <td>Warhol, Andy</td>\n",
       "      <td>Male</td>\n",
       "      <td>1928</td>\n",
       "      <td>1987</td>\n",
       "      <td>272</td>\n",
       "    </tr>\n",
       "  </tbody>\n",
       "</table>\n",
       "</div>"
      ],
      "text/plain": [
       "                    Name  Gender Year_Birth Year_Death N_works\n",
       "0          Beuys, Joseph    Male       1921       1986     588\n",
       "1        Constable, John    Male       1776       1837     249\n",
       "2       Daniell, William    Male       1769       1837     612\n",
       "3      Forbes, Elizabeth  Female       1859       1912     120\n",
       "4          Flaxman, John    Male       1755       1826     287\n",
       "5       Phillips, Thomas    Male       1770       1845     274\n",
       "6  Paolozzi, Sir Eduardo    Male       1924       2005     385\n",
       "7         Schendel, Mira  Female       1919       1988       3\n",
       "8        Turner, William    Male       1775       1851    1861\n",
       "9           Warhol, Andy    Male       1928       1987     272"
      ]
     },
     "execution_count": 7,
     "metadata": {},
     "output_type": "execute_result"
    }
   ],
   "source": [
    "tate_2 = pd.read_pickle('tate_dataset.pkl')\n",
    "tate_2"
   ]
  },
  {
   "cell_type": "markdown",
   "metadata": {
    "id": "4vHSnaOQAZvv"
   },
   "source": [
    "## 1.3 - Look at the data\n",
    "\n",
    "Now we will simply have a look at the data and make sure it is clean. \n",
    "\n",
    "### Data type\n",
    "Let's check the data type of the imported variables and the original DataFrame."
   ]
  },
  {
   "cell_type": "code",
   "execution_count": 8,
   "metadata": {
    "id": "AV3eoT35AZvw"
   },
   "outputs": [
    {
     "data": {
      "text/plain": [
       "Name          object\n",
       "Gender        object\n",
       "Year_Birth     int64\n",
       "Year_Death     int64\n",
       "N_works        int64\n",
       "dtype: object"
      ]
     },
     "execution_count": 8,
     "metadata": {},
     "output_type": "execute_result"
    }
   ],
   "source": [
    "# Check data type of the columns for Tate_1\n",
    "tate_1.dtypes"
   ]
  },
  {
   "cell_type": "code",
   "execution_count": 9,
   "metadata": {
    "id": "ACysmIDSAZvy"
   },
   "outputs": [
    {
     "data": {
      "text/plain": [
       "Name          object\n",
       "Gender        object\n",
       "Year_Birth    object\n",
       "Year_Death    object\n",
       "N_works       object\n",
       "dtype: object"
      ]
     },
     "execution_count": 9,
     "metadata": {},
     "output_type": "execute_result"
    }
   ],
   "source": [
    "# Check data type of the columns for TateDataset\n",
    "tate_dataset.dtypes"
   ]
  },
  {
   "cell_type": "markdown",
   "metadata": {
    "id": "T3q0dEk0AZv0"
   },
   "source": [
    "We can also display the values of a single column and check their data type as follow:"
   ]
  },
  {
   "cell_type": "code",
   "execution_count": 10,
   "metadata": {
    "id": "zfMt0x2lAZv0"
   },
   "outputs": [
    {
     "data": {
      "text/plain": [
       "0      Male\n",
       "1      Male\n",
       "2      Male\n",
       "3    Female\n",
       "4      Male\n",
       "5      Male\n",
       "6      Male\n",
       "7    Female\n",
       "8      Male\n",
       "9      Male\n",
       "Name: Gender, dtype: object"
      ]
     },
     "execution_count": 10,
     "metadata": {},
     "output_type": "execute_result"
    }
   ],
   "source": [
    "tate_dataset['Gender']"
   ]
  },
  {
   "cell_type": "markdown",
   "metadata": {
    "id": "hympM9yTEuud"
   },
   "source": [
    "# Task 2: Application Programming Interfaces (APIs)"
   ]
  },
  {
   "cell_type": "markdown",
   "metadata": {
    "id": "vOGrvILtFv0K",
    "tags": []
   },
   "source": [
    "## 2.1 - Downloading climate data from the Internet\n",
    "\n",
    "We will now explore real world data, namely a dataset of climate information of 5 cities in Denmark between 1980-2018. The original raw-data was originally obtained from [National Climatic Data Center (NCDC)](https://www7.ncdc.noaa.gov/CDO/cdoselect.cmd).\n",
    "\n",
    "In particular, the selected cities in Denmark are:\n",
    "- Aalborg, \n",
    "- Aarhus, \n",
    "- Esbjerg, \n",
    "- Odense. \n",
    "- Roskilde\n",
    "\n",
    "In the following, we will download the dataset using an API instead of loading a local source file.\n",
    "\n",
    "### What is an API? \n",
    "Application Programming Interface (API) is a communication protocol between the user and the server (i.e., web server) that enables transmittion of data. The user making a request to an API server can download the desidered resources. \n",
    "\n",
    "### How to make a request in python?\n",
    "There are many different way to request data. \n",
    "In the following, we will use the package **urllib** that collects several modules for working with URLs.\n",
    "\n",
    "In particular, [urlib.request](https://docs.python.org/3/library/urllib.request.html#module-urllib.request) is a module for opening and reading URLs.\n"
   ]
  },
  {
   "cell_type": "markdown",
   "metadata": {
    "id": "DiwhudMrKQUP"
   },
   "source": [
    "### - Download climate data\n",
    "\n",
    "\n",
    "The following functions allow to download and store the dataset in a specific folder.\n",
    "\n",
    "How to use:\n",
    "\n",
    "- Set the source (i.e., URL) of the desidered dataset in `data_url`.\n",
    "- Set the `data_dir` variable with the local directory where to store the data.\n",
    "- Call `download_and_extract()` to download the dataset if it is not already located in the given data_dir.\n",
    "- Load the data in the interactive Python notebook so ic can be used in your scripts (you can use `load_original_data()`)."
   ]
  },
  {
   "cell_type": "code",
   "execution_count": 11,
   "metadata": {
    "cellView": "form",
    "id": "DjVqxHOLE6I4"
   },
   "outputs": [],
   "source": [
    "#@title Functions to download data \n",
    "########################################################################\n",
    "#\n",
    "# This file is a partially modified version of one of the TensorFlow Tutorials available at:\n",
    "#\n",
    "# https://github.com/Hvass-Labs/TensorFlow-Tutorials\n",
    "#\n",
    "# Published under the MIT License. See the file LICENSE for details.\n",
    "#\n",
    "# Copyright 2018 by Magnus Erik Hvass Pedersen\n",
    "#\n",
    "########################################################################\n",
    "\n",
    "import sys\n",
    "import os\n",
    "import urllib.request\n",
    "import tarfile\n",
    "import zipfile\n",
    "\n",
    "\n",
    "\n",
    "def _print_download_progress(count, block_size, total_size):\n",
    "    \"\"\"\n",
    "    Function used for printing the download progress.\n",
    "    Used as a call-back function in maybe_download_and_extract().\n",
    "    \"\"\"\n",
    "\n",
    "    # Percentage completion.\n",
    "    pct_complete = float(count * block_size) / total_size\n",
    "\n",
    "    # Limit it because rounding errors may cause it to exceed 100%.\n",
    "    pct_complete = min(1.0, pct_complete)\n",
    "\n",
    "    # Status-message. Note the \\r which means the line should overwrite itself.\n",
    "    msg = \"\\r- Download progress: {0:.1%}\".format(pct_complete)\n",
    "\n",
    "    # Print it.\n",
    "    sys.stdout.write(msg)\n",
    "    sys.stdout.flush()\n",
    "\n",
    "\n",
    "def download(base_url, filename, download_dir):\n",
    "    \"\"\"\n",
    "    Download the given file if it does not already exist in the download_dir.\n",
    "    :param base_url: The internet URL without the filename.\n",
    "    :param filename: The filename that will be added to the base_url.\n",
    "    :param download_dir: Local directory for storing the file.\n",
    "    \"\"\"\n",
    "\n",
    "    # Path for local file.\n",
    "    save_path = os.path.join(download_dir, filename)\n",
    "\n",
    "    # Check if the file already exists, otherwise we need to download it now.\n",
    "    if not os.path.exists(save_path):\n",
    "        # Check if the download directory exists, otherwise create it.\n",
    "        if not os.path.exists(download_dir):\n",
    "            os.makedirs(download_dir)\n",
    "\n",
    "        print(\"Downloading\", filename, \"...\")\n",
    "\n",
    "        # Download the file from the internet.\n",
    "        url = base_url + filename\n",
    "        file_path, _ = urllib.request.urlretrieve(url=url,\n",
    "                                                  filename=save_path,\n",
    "                                                  reporthook=_print_download_progress)\n",
    "\n",
    "        print(\" Done!\")\n",
    "\n",
    "\n",
    "def download_and_extract(url, download_dir):\n",
    "    \"\"\"\n",
    "    Download and extract the data if it doesn't already exist.\n",
    "    Assumes the url is a tar-ball file.\n",
    "    :param url:\n",
    "        Internet URL for the tar-file to download.\n",
    "    :param download_dir:\n",
    "        Directory where the downloaded file is saved.\n",
    "    \"\"\"\n",
    "\n",
    "    # Filename for saving the file downloaded from the internet.\n",
    "    # Use the filename from the URL and add it to the download_dir.\n",
    "    filename = url.split('/')[-1]\n",
    "    file_path = os.path.join(download_dir, filename)\n",
    "\n",
    "    # Check if the file already exists.\n",
    "    # If it exists then we assume it has also been extracted,\n",
    "    # otherwise we need to download and extract it now.\n",
    "    if not os.path.exists(file_path):\n",
    "        # Check if the download directory exists, otherwise create it.\n",
    "        if not os.path.exists(download_dir):\n",
    "            os.makedirs(download_dir)\n",
    "\n",
    "        # Download the file from the internet.\n",
    "        file_path, _ = urllib.request.urlretrieve(url=url,\n",
    "                                                  filename=file_path,\n",
    "                                                  reporthook=_print_download_progress)\n",
    "\n",
    "        print()\n",
    "        print(\"Download finished. Extracting files.\")\n",
    "\n",
    "        if file_path.endswith(\".zip\"):\n",
    "            # Unpack the zip-file.\n",
    "            zipfile.ZipFile(file=file_path, mode=\"r\").extractall(download_dir)\n",
    "        elif file_path.endswith((\".tar.gz\", \".tgz\")):\n",
    "            # Unpack the tar-ball.\n",
    "            tarfile.open(name=file_path, mode=\"r:gz\").extractall(download_dir)\n",
    "\n",
    "        print(\"Done.\")\n",
    "    else:\n",
    "        print(\"Data has apparently already been downloaded and unpacked.\")\n",
    "        "
   ]
  },
  {
   "cell_type": "markdown",
   "metadata": {
    "id": "jhAOVRKTclRR"
   },
   "source": [
    "First, we define where we want to download the dataset (you are free to choose another directory) and the URL of the dataset to be downloaded."
   ]
  },
  {
   "cell_type": "code",
   "execution_count": 12,
   "metadata": {
    "id": "mPl5lGC_cjRa"
   },
   "outputs": [],
   "source": [
    "# Location of the dataset on the internet.\n",
    "data_url = \"https://github.com/Hvass-Labs/weather-denmark/raw/master/weather-denmark.tar.gz\"\n",
    "\n",
    "# Local directory where you want to download and save the dataset.\n",
    "data_dir = \"weather-data/\""
   ]
  },
  {
   "cell_type": "markdown",
   "metadata": {
    "id": "_fUv_1U7AGIS"
   },
   "source": [
    "Now, we can download the dataset into the chosen local directory"
   ]
  },
  {
   "cell_type": "code",
   "execution_count": 13,
   "metadata": {
    "id": "6P4iL6WfAGIT"
   },
   "outputs": [
    {
     "name": "stdout",
     "output_type": "stream",
     "text": [
      "- Download progress: 100.0%\n",
      "Download finished. Extracting files.\n",
      "Done.\n"
     ]
    }
   ],
   "source": [
    "download_and_extract(url=data_url, download_dir=data_dir)"
   ]
  },
  {
   "cell_type": "markdown",
   "metadata": {
    "id": "sLC9mO_RAGIY"
   },
   "source": [
    "**[TO DO]:** Check the local folder? In which format the dataset has been downloaded?\n",
    "\n",
    "**[TO DO]:** Select a format and load the dataset ."
   ]
  },
  {
   "cell_type": "code",
   "execution_count": 14,
   "metadata": {
    "id": "59A_u_4CAGIY"
   },
   "outputs": [
    {
     "name": "stdout",
     "output_type": "stream",
     "text": [
      "README.md\n",
      "weather-denmark.csv\n",
      "weather-denmark.pkl\n",
      "weather-denmark.tar.gz\n"
     ]
    }
   ],
   "source": [
    "### TODO\n",
    "for file in os.listdir(data_dir):\n",
    "    print(file)"
   ]
  },
  {
   "cell_type": "code",
   "execution_count": 15,
   "metadata": {
    "id": "36clsIOhq_CR"
   },
   "outputs": [
    {
     "name": "stdout",
     "output_type": "stream",
     "text": [
      "csv type:\n",
      " City          object\n",
      "DateTime      object\n",
      "Temp         float64\n",
      "Pressure     float64\n",
      "WindSpeed    float64\n",
      "WindDir      float64\n",
      "dtype: object\n"
     ]
    },
    {
     "data": {
      "text/html": [
       "<div>\n",
       "<style scoped>\n",
       "    .dataframe tbody tr th:only-of-type {\n",
       "        vertical-align: middle;\n",
       "    }\n",
       "\n",
       "    .dataframe tbody tr th {\n",
       "        vertical-align: top;\n",
       "    }\n",
       "\n",
       "    .dataframe thead th {\n",
       "        text-align: right;\n",
       "    }\n",
       "</style>\n",
       "<table border=\"1\" class=\"dataframe\">\n",
       "  <thead>\n",
       "    <tr style=\"text-align: right;\">\n",
       "      <th></th>\n",
       "      <th>City</th>\n",
       "      <th>DateTime</th>\n",
       "      <th>Temp</th>\n",
       "      <th>Pressure</th>\n",
       "      <th>WindSpeed</th>\n",
       "      <th>WindDir</th>\n",
       "    </tr>\n",
       "  </thead>\n",
       "  <tbody>\n",
       "    <tr>\n",
       "      <th>0</th>\n",
       "      <td>Aalborg</td>\n",
       "      <td>1980-03-01 00:00:00</td>\n",
       "      <td>5.0</td>\n",
       "      <td>1008.1</td>\n",
       "      <td>11.3</td>\n",
       "      <td>290.0</td>\n",
       "    </tr>\n",
       "    <tr>\n",
       "      <th>1</th>\n",
       "      <td>Aalborg</td>\n",
       "      <td>1980-03-01 00:20:00</td>\n",
       "      <td>4.0</td>\n",
       "      <td>NaN</td>\n",
       "      <td>9.2</td>\n",
       "      <td>270.0</td>\n",
       "    </tr>\n",
       "    <tr>\n",
       "      <th>2</th>\n",
       "      <td>Aalborg</td>\n",
       "      <td>1980-03-01 00:50:00</td>\n",
       "      <td>4.0</td>\n",
       "      <td>NaN</td>\n",
       "      <td>9.2</td>\n",
       "      <td>280.0</td>\n",
       "    </tr>\n",
       "    <tr>\n",
       "      <th>3</th>\n",
       "      <td>Aalborg</td>\n",
       "      <td>1980-03-01 01:20:00</td>\n",
       "      <td>4.0</td>\n",
       "      <td>NaN</td>\n",
       "      <td>9.2</td>\n",
       "      <td>280.0</td>\n",
       "    </tr>\n",
       "    <tr>\n",
       "      <th>4</th>\n",
       "      <td>Aalborg</td>\n",
       "      <td>1980-03-01 01:50:00</td>\n",
       "      <td>4.0</td>\n",
       "      <td>NaN</td>\n",
       "      <td>8.7</td>\n",
       "      <td>270.0</td>\n",
       "    </tr>\n",
       "    <tr>\n",
       "      <th>...</th>\n",
       "      <td>...</td>\n",
       "      <td>...</td>\n",
       "      <td>...</td>\n",
       "      <td>...</td>\n",
       "      <td>...</td>\n",
       "      <td>...</td>\n",
       "    </tr>\n",
       "    <tr>\n",
       "      <th>2918145</th>\n",
       "      <td>Roskilde</td>\n",
       "      <td>2018-03-01 22:20:00</td>\n",
       "      <td>-5.0</td>\n",
       "      <td>NaN</td>\n",
       "      <td>5.1</td>\n",
       "      <td>70.0</td>\n",
       "    </tr>\n",
       "    <tr>\n",
       "      <th>2918146</th>\n",
       "      <td>Roskilde</td>\n",
       "      <td>2018-03-01 22:50:00</td>\n",
       "      <td>-5.0</td>\n",
       "      <td>NaN</td>\n",
       "      <td>4.1</td>\n",
       "      <td>70.0</td>\n",
       "    </tr>\n",
       "    <tr>\n",
       "      <th>2918147</th>\n",
       "      <td>Roskilde</td>\n",
       "      <td>2018-03-01 23:00:00</td>\n",
       "      <td>-5.3</td>\n",
       "      <td>1018.6</td>\n",
       "      <td>4.1</td>\n",
       "      <td>60.0</td>\n",
       "    </tr>\n",
       "    <tr>\n",
       "      <th>2918148</th>\n",
       "      <td>Roskilde</td>\n",
       "      <td>2018-03-01 23:20:00</td>\n",
       "      <td>-5.0</td>\n",
       "      <td>NaN</td>\n",
       "      <td>3.6</td>\n",
       "      <td>60.0</td>\n",
       "    </tr>\n",
       "    <tr>\n",
       "      <th>2918149</th>\n",
       "      <td>Roskilde</td>\n",
       "      <td>2018-03-01 23:50:00</td>\n",
       "      <td>-5.0</td>\n",
       "      <td>NaN</td>\n",
       "      <td>3.6</td>\n",
       "      <td>60.0</td>\n",
       "    </tr>\n",
       "  </tbody>\n",
       "</table>\n",
       "<p>2918150 rows × 6 columns</p>\n",
       "</div>"
      ],
      "text/plain": [
       "             City             DateTime  Temp  Pressure  WindSpeed  WindDir\n",
       "0         Aalborg  1980-03-01 00:00:00   5.0    1008.1       11.3    290.0\n",
       "1         Aalborg  1980-03-01 00:20:00   4.0       NaN        9.2    270.0\n",
       "2         Aalborg  1980-03-01 00:50:00   4.0       NaN        9.2    280.0\n",
       "3         Aalborg  1980-03-01 01:20:00   4.0       NaN        9.2    280.0\n",
       "4         Aalborg  1980-03-01 01:50:00   4.0       NaN        8.7    270.0\n",
       "...           ...                  ...   ...       ...        ...      ...\n",
       "2918145  Roskilde  2018-03-01 22:20:00  -5.0       NaN        5.1     70.0\n",
       "2918146  Roskilde  2018-03-01 22:50:00  -5.0       NaN        4.1     70.0\n",
       "2918147  Roskilde  2018-03-01 23:00:00  -5.3    1018.6        4.1     60.0\n",
       "2918148  Roskilde  2018-03-01 23:20:00  -5.0       NaN        3.6     60.0\n",
       "2918149  Roskilde  2018-03-01 23:50:00  -5.0       NaN        3.6     60.0\n",
       "\n",
       "[2918150 rows x 6 columns]"
      ]
     },
     "execution_count": 15,
     "metadata": {},
     "output_type": "execute_result"
    }
   ],
   "source": [
    "### TODO\n",
    "weather_data_csv = pd.read_csv(data_dir + 'weather-denmark.csv')\n",
    "# weather_data_pkl = pd.read_pickle(data_dir + 'weather-denmark.pkl')\n",
    "print('csv type:\\n',weather_data_csv.dtypes)\n",
    "weather_data_csv"
   ]
  },
  {
   "cell_type": "markdown",
   "metadata": {
    "id": "MN4_qGC4AGIc"
   },
   "source": [
    "**More advanced solution for loading dataset**:\n",
    "\n",
    "In this case, the dataset was downloaded in two different formats. \n",
    "We can define the path where the files have been stored as follows:\n",
    "- **path_original_data_pickle( )** is the location of the original data in pickle format\n",
    "- **path_original_data_csv( )** is the location the original data in .csv"
   ]
  },
  {
   "cell_type": "code",
   "execution_count": 16,
   "metadata": {
    "id": "NO8jevNRAGIc"
   },
   "outputs": [],
   "source": [
    "def path_original_data_pickle():\n",
    "    return os.path.join(data_dir, \"weather-denmark.pkl\")\n",
    "\n",
    "def path_original_data_csv():\n",
    "    return os.path.join(data_dir, \"weather-denmark.csv\")"
   ]
  },
  {
   "cell_type": "markdown",
   "metadata": {
    "id": "KoNQaCyAAGIg"
   },
   "source": [
    "Now we can load the data in pickle format through the following function:"
   ]
  },
  {
   "cell_type": "code",
   "execution_count": 17,
   "metadata": {
    "id": "JHdwG7c6AGIh"
   },
   "outputs": [],
   "source": [
    "def load_original_data():\n",
    "    return pd.read_pickle(path_original_data_pickle())"
   ]
  },
  {
   "cell_type": "code",
   "execution_count": 18,
   "metadata": {
    "id": "0-XPffh3AGIj"
   },
   "outputs": [
    {
     "data": {
      "text/html": [
       "<div>\n",
       "<style scoped>\n",
       "    .dataframe tbody tr th:only-of-type {\n",
       "        vertical-align: middle;\n",
       "    }\n",
       "\n",
       "    .dataframe tbody tr th {\n",
       "        vertical-align: top;\n",
       "    }\n",
       "\n",
       "    .dataframe thead th {\n",
       "        text-align: right;\n",
       "    }\n",
       "</style>\n",
       "<table border=\"1\" class=\"dataframe\">\n",
       "  <thead>\n",
       "    <tr style=\"text-align: right;\">\n",
       "      <th></th>\n",
       "      <th></th>\n",
       "      <th>Temp</th>\n",
       "      <th>Pressure</th>\n",
       "      <th>WindSpeed</th>\n",
       "      <th>WindDir</th>\n",
       "    </tr>\n",
       "    <tr>\n",
       "      <th>City</th>\n",
       "      <th>DateTime</th>\n",
       "      <th></th>\n",
       "      <th></th>\n",
       "      <th></th>\n",
       "      <th></th>\n",
       "    </tr>\n",
       "  </thead>\n",
       "  <tbody>\n",
       "    <tr>\n",
       "      <th rowspan=\"5\" valign=\"top\">Aalborg</th>\n",
       "      <th>1980-03-01 00:00:00</th>\n",
       "      <td>5.0</td>\n",
       "      <td>1008.1</td>\n",
       "      <td>11.3</td>\n",
       "      <td>290.0</td>\n",
       "    </tr>\n",
       "    <tr>\n",
       "      <th>1980-03-01 00:20:00</th>\n",
       "      <td>4.0</td>\n",
       "      <td>NaN</td>\n",
       "      <td>9.2</td>\n",
       "      <td>270.0</td>\n",
       "    </tr>\n",
       "    <tr>\n",
       "      <th>1980-03-01 00:50:00</th>\n",
       "      <td>4.0</td>\n",
       "      <td>NaN</td>\n",
       "      <td>9.2</td>\n",
       "      <td>280.0</td>\n",
       "    </tr>\n",
       "    <tr>\n",
       "      <th>1980-03-01 01:20:00</th>\n",
       "      <td>4.0</td>\n",
       "      <td>NaN</td>\n",
       "      <td>9.2</td>\n",
       "      <td>280.0</td>\n",
       "    </tr>\n",
       "    <tr>\n",
       "      <th>1980-03-01 01:50:00</th>\n",
       "      <td>4.0</td>\n",
       "      <td>NaN</td>\n",
       "      <td>8.7</td>\n",
       "      <td>270.0</td>\n",
       "    </tr>\n",
       "    <tr>\n",
       "      <th>...</th>\n",
       "      <th>...</th>\n",
       "      <td>...</td>\n",
       "      <td>...</td>\n",
       "      <td>...</td>\n",
       "      <td>...</td>\n",
       "    </tr>\n",
       "    <tr>\n",
       "      <th rowspan=\"5\" valign=\"top\">Roskilde</th>\n",
       "      <th>2018-03-01 22:20:00</th>\n",
       "      <td>-5.0</td>\n",
       "      <td>NaN</td>\n",
       "      <td>5.1</td>\n",
       "      <td>70.0</td>\n",
       "    </tr>\n",
       "    <tr>\n",
       "      <th>2018-03-01 22:50:00</th>\n",
       "      <td>-5.0</td>\n",
       "      <td>NaN</td>\n",
       "      <td>4.1</td>\n",
       "      <td>70.0</td>\n",
       "    </tr>\n",
       "    <tr>\n",
       "      <th>2018-03-01 23:00:00</th>\n",
       "      <td>-5.3</td>\n",
       "      <td>1018.6</td>\n",
       "      <td>4.1</td>\n",
       "      <td>60.0</td>\n",
       "    </tr>\n",
       "    <tr>\n",
       "      <th>2018-03-01 23:20:00</th>\n",
       "      <td>-5.0</td>\n",
       "      <td>NaN</td>\n",
       "      <td>3.6</td>\n",
       "      <td>60.0</td>\n",
       "    </tr>\n",
       "    <tr>\n",
       "      <th>2018-03-01 23:50:00</th>\n",
       "      <td>-5.0</td>\n",
       "      <td>NaN</td>\n",
       "      <td>3.6</td>\n",
       "      <td>60.0</td>\n",
       "    </tr>\n",
       "  </tbody>\n",
       "</table>\n",
       "<p>2918150 rows × 4 columns</p>\n",
       "</div>"
      ],
      "text/plain": [
       "                              Temp  Pressure  WindSpeed  WindDir\n",
       "City     DateTime                                               \n",
       "Aalborg  1980-03-01 00:00:00   5.0    1008.1       11.3    290.0\n",
       "         1980-03-01 00:20:00   4.0       NaN        9.2    270.0\n",
       "         1980-03-01 00:50:00   4.0       NaN        9.2    280.0\n",
       "         1980-03-01 01:20:00   4.0       NaN        9.2    280.0\n",
       "         1980-03-01 01:50:00   4.0       NaN        8.7    270.0\n",
       "...                            ...       ...        ...      ...\n",
       "Roskilde 2018-03-01 22:20:00  -5.0       NaN        5.1     70.0\n",
       "         2018-03-01 22:50:00  -5.0       NaN        4.1     70.0\n",
       "         2018-03-01 23:00:00  -5.3    1018.6        4.1     60.0\n",
       "         2018-03-01 23:20:00  -5.0       NaN        3.6     60.0\n",
       "         2018-03-01 23:50:00  -5.0       NaN        3.6     60.0\n",
       "\n",
       "[2918150 rows x 4 columns]"
      ]
     },
     "execution_count": 18,
     "metadata": {},
     "output_type": "execute_result"
    }
   ],
   "source": [
    "df = load_original_data()\n",
    "df"
   ]
  },
  {
   "cell_type": "markdown",
   "metadata": {
    "id": "DMCJQr_SAGIm"
   },
   "source": [
    "### - Undestanding the data\n",
    "\n",
    "**_[TO DO]_**: Have a quick overview of the downloaded dataset. \n",
    "In particular, focus on:\n",
    "\n",
    "- Understanding the variables contained in the dataframe\n",
    "- Check the DateTime for 2 cities"
   ]
  },
  {
   "cell_type": "code",
   "execution_count": 19,
   "metadata": {
    "id": "-_dXNZFqd6rk"
   },
   "outputs": [
    {
     "data": {
      "text/html": [
       "<div>\n",
       "<style scoped>\n",
       "    .dataframe tbody tr th:only-of-type {\n",
       "        vertical-align: middle;\n",
       "    }\n",
       "\n",
       "    .dataframe tbody tr th {\n",
       "        vertical-align: top;\n",
       "    }\n",
       "\n",
       "    .dataframe thead th {\n",
       "        text-align: right;\n",
       "    }\n",
       "</style>\n",
       "<table border=\"1\" class=\"dataframe\">\n",
       "  <thead>\n",
       "    <tr style=\"text-align: right;\">\n",
       "      <th></th>\n",
       "      <th>City</th>\n",
       "      <th>DateTime</th>\n",
       "    </tr>\n",
       "  </thead>\n",
       "  <tbody>\n",
       "    <tr>\n",
       "      <th>0</th>\n",
       "      <td>Aalborg</td>\n",
       "      <td>1980-03-01 00:00:00</td>\n",
       "    </tr>\n",
       "    <tr>\n",
       "      <th>1</th>\n",
       "      <td>Aalborg</td>\n",
       "      <td>1980-03-01 00:20:00</td>\n",
       "    </tr>\n",
       "    <tr>\n",
       "      <th>2</th>\n",
       "      <td>Aalborg</td>\n",
       "      <td>1980-03-01 00:50:00</td>\n",
       "    </tr>\n",
       "    <tr>\n",
       "      <th>3</th>\n",
       "      <td>Aalborg</td>\n",
       "      <td>1980-03-01 01:20:00</td>\n",
       "    </tr>\n",
       "    <tr>\n",
       "      <th>4</th>\n",
       "      <td>Aalborg</td>\n",
       "      <td>1980-03-01 01:50:00</td>\n",
       "    </tr>\n",
       "    <tr>\n",
       "      <th>...</th>\n",
       "      <td>...</td>\n",
       "      <td>...</td>\n",
       "    </tr>\n",
       "    <tr>\n",
       "      <th>2918145</th>\n",
       "      <td>Roskilde</td>\n",
       "      <td>2018-03-01 22:20:00</td>\n",
       "    </tr>\n",
       "    <tr>\n",
       "      <th>2918146</th>\n",
       "      <td>Roskilde</td>\n",
       "      <td>2018-03-01 22:50:00</td>\n",
       "    </tr>\n",
       "    <tr>\n",
       "      <th>2918147</th>\n",
       "      <td>Roskilde</td>\n",
       "      <td>2018-03-01 23:00:00</td>\n",
       "    </tr>\n",
       "    <tr>\n",
       "      <th>2918148</th>\n",
       "      <td>Roskilde</td>\n",
       "      <td>2018-03-01 23:20:00</td>\n",
       "    </tr>\n",
       "    <tr>\n",
       "      <th>2918149</th>\n",
       "      <td>Roskilde</td>\n",
       "      <td>2018-03-01 23:50:00</td>\n",
       "    </tr>\n",
       "  </tbody>\n",
       "</table>\n",
       "<p>1329749 rows × 2 columns</p>\n",
       "</div>"
      ],
      "text/plain": [
       "             City             DateTime\n",
       "0         Aalborg  1980-03-01 00:00:00\n",
       "1         Aalborg  1980-03-01 00:20:00\n",
       "2         Aalborg  1980-03-01 00:50:00\n",
       "3         Aalborg  1980-03-01 01:20:00\n",
       "4         Aalborg  1980-03-01 01:50:00\n",
       "...           ...                  ...\n",
       "2918145  Roskilde  2018-03-01 22:20:00\n",
       "2918146  Roskilde  2018-03-01 22:50:00\n",
       "2918147  Roskilde  2018-03-01 23:00:00\n",
       "2918148  Roskilde  2018-03-01 23:20:00\n",
       "2918149  Roskilde  2018-03-01 23:50:00\n",
       "\n",
       "[1329749 rows x 2 columns]"
      ]
     },
     "execution_count": 19,
     "metadata": {},
     "output_type": "execute_result"
    }
   ],
   "source": [
    "### TODO\n",
    "weather_data_csv.loc[weather_data_csv['City'].isin(['Aalborg','Roskilde']),'City':'DateTime']"
   ]
  },
  {
   "cell_type": "markdown",
   "metadata": {
    "id": "ZYcAldYgeOmq"
   },
   "source": [
    "## 2.2 - Interacting with a server to query a subset of some data bank\n",
    "\n",
    "We will now learn how to query a data bank to retrieve only the relevant proportion data for a task. We will be using the World Bank Data API to access World's renewable energy consumtpion data. \n",
    "\n",
    "\n"
   ]
  },
  {
   "cell_type": "markdown",
   "metadata": {
    "id": "Pz0G-PnEllEE"
   },
   "source": [
    "You first need to install the World Bank API. In a terminal, run the following command:\n",
    "\n",
    "``>> pip install wbdata``\n",
    "\n"
   ]
  },
  {
   "cell_type": "code",
   "execution_count": 20,
   "metadata": {
    "colab": {
     "base_uri": "https://localhost:8080/",
     "height": 230
    },
    "executionInfo": {
     "elapsed": 5409,
     "status": "ok",
     "timestamp": 1603899607656,
     "user": {
      "displayName": "Sephora Madjiheurem",
      "photoUrl": "https://lh3.googleusercontent.com/a-/AOh14GgieP2Hh5x42748iuuSEnAl8BYCWGSmOzJ-ypgSaQ=s64",
      "userId": "05055971560005673839"
     },
     "user_tz": 0
    },
    "id": "pKP6WMKA3YTH",
    "outputId": "b822a83a-4f1f-4ef3-88e6-ada5dc8e99a5"
   },
   "outputs": [
    {
     "name": "stdout",
     "output_type": "stream",
     "text": [
      "Requirement already satisfied: wbdata in d:\\workapp\\anconda\\envs\\ucl\\lib\\site-packages (0.3.0)\n",
      "Requirement already satisfied: appdirs<2.0,>=1.4 in d:\\workapp\\anconda\\envs\\ucl\\lib\\site-packages (from wbdata) (1.4.4)\n",
      "Requirement already satisfied: requests>=2.0 in d:\\workapp\\anconda\\envs\\ucl\\lib\\site-packages (from wbdata) (2.28.1)\n",
      "Requirement already satisfied: tabulate>=0.8.5 in d:\\workapp\\anconda\\envs\\ucl\\lib\\site-packages (from wbdata) (0.9.0)\n",
      "Requirement already satisfied: decorator>=4.0 in d:\\workapp\\anconda\\envs\\ucl\\lib\\site-packages (from wbdata) (5.1.1)\n",
      "Requirement already satisfied: idna<4,>=2.5 in d:\\workapp\\anconda\\envs\\ucl\\lib\\site-packages (from requests>=2.0->wbdata) (3.4)\n",
      "Requirement already satisfied: urllib3<1.27,>=1.21.1 in d:\\workapp\\anconda\\envs\\ucl\\lib\\site-packages (from requests>=2.0->wbdata) (1.26.12)\n",
      "Requirement already satisfied: charset-normalizer<3,>=2 in d:\\workapp\\anconda\\envs\\ucl\\lib\\site-packages (from requests>=2.0->wbdata) (2.1.1)\n",
      "Requirement already satisfied: certifi>=2017.4.17 in d:\\workapp\\anconda\\envs\\ucl\\lib\\site-packages (from requests>=2.0->wbdata) (2022.9.24)\n",
      "Note: you may need to restart the kernel to use updated packages.\n"
     ]
    }
   ],
   "source": [
    "%pip install wbdata"
   ]
  },
  {
   "cell_type": "code",
   "execution_count": 21,
   "metadata": {
    "cellView": "form",
    "executionInfo": {
     "elapsed": 496,
     "status": "ok",
     "timestamp": 1603899609741,
     "user": {
      "displayName": "Sephora Madjiheurem",
      "photoUrl": "https://lh3.googleusercontent.com/a-/AOh14GgieP2Hh5x42748iuuSEnAl8BYCWGSmOzJ-ypgSaQ=s64",
      "userId": "05055971560005673839"
     },
     "user_tz": 0
    },
    "id": "TpOO5F8YkxyR"
   },
   "outputs": [],
   "source": [
    "#@title Imports\n",
    "import wbdata as wb\n",
    "import datetime"
   ]
  },
  {
   "cell_type": "markdown",
   "metadata": {
    "id": "7OJzq_rWmGa-"
   },
   "source": [
    "### - Query the World Bank\n",
    "\n",
    "* **_[TO DO]_**: Use the wbdata to retrieve renewable energy consumption data of all countries in 2015.\n",
    "\n",
    "Hint: [wbdata documentation](https://wbdata.readthedocs.io/en/stable/)"
   ]
  },
  {
   "cell_type": "code",
   "execution_count": 22,
   "metadata": {
    "id": "RXwfBzicmFO3"
   },
   "outputs": [
    {
     "data": {
      "text/plain": [
       "id                          name\n",
       "--------------------------  ------------------------------------------------------------------\n",
       "2.1_SHARE.TOTAL.RE.IN.TFEC  Renewable energy consumption(% in TFEC)\n",
       "3.1_RE.CONSUMPTION          Renewable energy consumption (TJ)\n",
       "EG.FEC.RNEW.ZS              Renewable energy consumption (% of total final energy consumption)"
      ]
     },
     "execution_count": 22,
     "metadata": {},
     "output_type": "execute_result"
    }
   ],
   "source": [
    "### TODO\n",
    "wb.search_indicators(\"renewable energy consumption\")"
   ]
  },
  {
   "cell_type": "code",
   "execution_count": 23,
   "metadata": {},
   "outputs": [
    {
     "data": {
      "text/html": [
       "<div>\n",
       "<style scoped>\n",
       "    .dataframe tbody tr th:only-of-type {\n",
       "        vertical-align: middle;\n",
       "    }\n",
       "\n",
       "    .dataframe tbody tr th {\n",
       "        vertical-align: top;\n",
       "    }\n",
       "\n",
       "    .dataframe thead th {\n",
       "        text-align: right;\n",
       "    }\n",
       "</style>\n",
       "<table border=\"1\" class=\"dataframe\">\n",
       "  <thead>\n",
       "    <tr style=\"text-align: right;\">\n",
       "      <th></th>\n",
       "      <th>Renewable energy consumption (TJ)</th>\n",
       "    </tr>\n",
       "    <tr>\n",
       "      <th>country</th>\n",
       "      <th></th>\n",
       "    </tr>\n",
       "  </thead>\n",
       "  <tbody>\n",
       "    <tr>\n",
       "      <th>BES Islands</th>\n",
       "      <td>112.78860</td>\n",
       "    </tr>\n",
       "    <tr>\n",
       "      <th>Nauru</th>\n",
       "      <td>0.32988</td>\n",
       "    </tr>\n",
       "    <tr>\n",
       "      <th>Niue</th>\n",
       "      <td>16.63123</td>\n",
       "    </tr>\n",
       "    <tr>\n",
       "      <th>Wallis and Futuna</th>\n",
       "      <td>0.00000</td>\n",
       "    </tr>\n",
       "    <tr>\n",
       "      <th>Caucasian and Central Asia</th>\n",
       "      <td>NaN</td>\n",
       "    </tr>\n",
       "    <tr>\n",
       "      <th>...</th>\n",
       "      <td>...</td>\n",
       "    </tr>\n",
       "    <tr>\n",
       "      <th>West Bank and Gaza</th>\n",
       "      <td>6701.55000</td>\n",
       "    </tr>\n",
       "    <tr>\n",
       "      <th>Western Sahara</th>\n",
       "      <td>0.00000</td>\n",
       "    </tr>\n",
       "    <tr>\n",
       "      <th>Yemen, Rep.</th>\n",
       "      <td>2433.20100</td>\n",
       "    </tr>\n",
       "    <tr>\n",
       "      <th>Zambia</th>\n",
       "      <td>301679.80000</td>\n",
       "    </tr>\n",
       "    <tr>\n",
       "      <th>Zimbabwe</th>\n",
       "      <td>324422.60000</td>\n",
       "    </tr>\n",
       "  </tbody>\n",
       "</table>\n",
       "<p>259 rows × 1 columns</p>\n",
       "</div>"
      ],
      "text/plain": [
       "                            Renewable energy consumption (TJ)\n",
       "country                                                      \n",
       "BES Islands                                         112.78860\n",
       "Nauru                                                 0.32988\n",
       "Niue                                                 16.63123\n",
       "Wallis and Futuna                                     0.00000\n",
       "Caucasian and Central Asia                                NaN\n",
       "...                                                       ...\n",
       "West Bank and Gaza                                 6701.55000\n",
       "Western Sahara                                        0.00000\n",
       "Yemen, Rep.                                        2433.20100\n",
       "Zambia                                           301679.80000\n",
       "Zimbabwe                                         324422.60000\n",
       "\n",
       "[259 rows x 1 columns]"
      ]
     },
     "execution_count": 23,
     "metadata": {},
     "output_type": "execute_result"
    }
   ],
   "source": [
    "data_date = datetime.datetime(2015, 1, 1), datetime.datetime(2015, 12, 31)        \n",
    "wb.get_data(\"3.1_RE.CONSUMPTION\",data_date=data_date)                                                                              \n",
    "df_re = wb.get_dataframe(indicators={\"3.1_RE.CONSUMPTION\": \"Renewable energy consumption (TJ)\"}, data_date=data_date, convert_date= True)\n",
    "df_re"
   ]
  },
  {
   "cell_type": "markdown",
   "metadata": {
    "id": "0FB_UE-0nSeX"
   },
   "source": [
    "### - Undestanding the data\n",
    "\n",
    "* **_[TO DO]_**: Display different data points "
   ]
  },
  {
   "cell_type": "code",
   "execution_count": 24,
   "metadata": {
    "id": "TLsp11GKn8Ai"
   },
   "outputs": [
    {
     "data": {
      "text/plain": [
       "<AxesSubplot:xlabel='country'>"
      ]
     },
     "execution_count": 24,
     "metadata": {},
     "output_type": "execute_result"
    },
    {
     "data": {
      "image/png": "[encoded data removed]",
      "text/plain": [
       "<Figure size 640x480 with 1 Axes>"
      ]
     },
     "metadata": {},
     "output_type": "display_data"
    }
   ],
   "source": [
    "### TODO\n",
    "df_re.plot(rot = 45)"
   ]
  },
  {
   "cell_type": "markdown",
   "metadata": {
    "id": "o52Lnoq5olC9"
   },
   "source": [
    "### - Exporting the data \n",
    "\n",
    "* **_[TO DO]_**: Save the retrieved renewable energy consumption data of all countries in 2015 in one .xlsx file\n",
    "* **_[TO DO]_**: Save the renewable energy consumption data from 2006 to 2016 for each European country in individual .csv files (one per country)"
   ]
  },
  {
   "cell_type": "code",
   "execution_count": 25,
   "metadata": {
    "id": "-k6RXRXBpduC"
   },
   "outputs": [],
   "source": [
    "### TODO\n",
    "df_re.to_excel(data_dir + 'retrieved renewable energy consumption data of all countries in 2015.xlsx')"
   ]
  },
  {
   "cell_type": "code",
   "execution_count": 26,
   "metadata": {},
   "outputs": [
    {
     "name": "stdout",
     "output_type": "stream",
     "text": [
      "['ALB', 'AND', 'BEL', 'BGR', 'BIH', 'BLR', 'CHE', 'CZE', 'DNK', 'ESP', 'EST', 'FIN', 'FRA', 'FRO', 'GBR', 'GIB', 'GRC', 'HRV', 'HUN', 'IRL', 'ISL', 'ITA', 'LIE', 'LTU', 'LUX', 'LVA', 'MCO', 'MDA', 'MKD', 'MLT', 'MNE', 'NLD', 'NOR', 'POL', 'PRT', 'ROU', 'RUS', 'SMR', 'SRB', 'SVN', 'SWE', 'UKR']\n"
     ]
    }
   ],
   "source": [
    "europe =['Finland','Sweden','Norway','Iceland','Denmark','Faroe Islands','Estonia','Latvia','Lithuania','Moldova','Belarus','Russia','Ukraine','Poland','Czech','Slovakia','Hungary','Germany''Austria','Switzerland','Liechtenstein','United Kingdom','Ireland','Netherlands','Belgium','Luxembourg','France','Monaco','Romania','Bulgaria','Serbia','Macedonia',\n",
    "'Slovenia','Croatia','Montenegro','Bosniaand','Herzegovina','Albania','Greece','Italy','Malta','Vatican City','San Marino','Spain','Portugal','Andorra','Gibraltar']\n",
    "country_id = []\n",
    "for i in europe:\n",
    "    country = wb.search_countries(i)\n",
    "    if country:\n",
    "        country_id.append(country[0]['id'])\n",
    "country_id.sort()\n",
    "print(country_id)"
   ]
  },
  {
   "cell_type": "code",
   "execution_count": 27,
   "metadata": {},
   "outputs": [
    {
     "data": {
      "text/html": [
       "<div>\n",
       "<style scoped>\n",
       "    .dataframe tbody tr th:only-of-type {\n",
       "        vertical-align: middle;\n",
       "    }\n",
       "\n",
       "    .dataframe tbody tr th {\n",
       "        vertical-align: top;\n",
       "    }\n",
       "\n",
       "    .dataframe thead th {\n",
       "        text-align: right;\n",
       "    }\n",
       "</style>\n",
       "<table border=\"1\" class=\"dataframe\">\n",
       "  <thead>\n",
       "    <tr style=\"text-align: right;\">\n",
       "      <th></th>\n",
       "      <th></th>\n",
       "      <th>Renewable energy consumption (TJ)</th>\n",
       "    </tr>\n",
       "    <tr>\n",
       "      <th>country</th>\n",
       "      <th>date</th>\n",
       "      <th></th>\n",
       "    </tr>\n",
       "  </thead>\n",
       "  <tbody>\n",
       "    <tr>\n",
       "      <th rowspan=\"5\" valign=\"top\">Albania</th>\n",
       "      <th>2016-01-01</th>\n",
       "      <td>NaN</td>\n",
       "    </tr>\n",
       "    <tr>\n",
       "      <th>2015-01-01</th>\n",
       "      <td>31555.45</td>\n",
       "    </tr>\n",
       "    <tr>\n",
       "      <th>2014-01-01</th>\n",
       "      <td>33160.59</td>\n",
       "    </tr>\n",
       "    <tr>\n",
       "      <th>2013-01-01</th>\n",
       "      <td>33755.15</td>\n",
       "    </tr>\n",
       "    <tr>\n",
       "      <th>2012-01-01</th>\n",
       "      <td>29877.97</td>\n",
       "    </tr>\n",
       "    <tr>\n",
       "      <th>...</th>\n",
       "      <th>...</th>\n",
       "      <td>...</td>\n",
       "    </tr>\n",
       "    <tr>\n",
       "      <th rowspan=\"5\" valign=\"top\">Ukraine</th>\n",
       "      <th>2010-01-01</th>\n",
       "      <td>82530.94</td>\n",
       "    </tr>\n",
       "    <tr>\n",
       "      <th>2009-01-01</th>\n",
       "      <td>78557.12</td>\n",
       "    </tr>\n",
       "    <tr>\n",
       "      <th>2008-01-01</th>\n",
       "      <td>86216.38</td>\n",
       "    </tr>\n",
       "    <tr>\n",
       "      <th>2007-01-01</th>\n",
       "      <td>77580.49</td>\n",
       "    </tr>\n",
       "    <tr>\n",
       "      <th>2006-01-01</th>\n",
       "      <td>53959.89</td>\n",
       "    </tr>\n",
       "  </tbody>\n",
       "</table>\n",
       "<p>462 rows × 1 columns</p>\n",
       "</div>"
      ],
      "text/plain": [
       "                    Renewable energy consumption (TJ)\n",
       "country date                                         \n",
       "Albania 2016-01-01                                NaN\n",
       "        2015-01-01                           31555.45\n",
       "        2014-01-01                           33160.59\n",
       "        2013-01-01                           33755.15\n",
       "        2012-01-01                           29877.97\n",
       "...                                               ...\n",
       "Ukraine 2010-01-01                           82530.94\n",
       "        2009-01-01                           78557.12\n",
       "        2008-01-01                           86216.38\n",
       "        2007-01-01                           77580.49\n",
       "        2006-01-01                           53959.89\n",
       "\n",
       "[462 rows x 1 columns]"
      ]
     },
     "execution_count": 27,
     "metadata": {},
     "output_type": "execute_result"
    }
   ],
   "source": [
    "data_date10 = datetime.datetime(2006, 1, 1), datetime.datetime(2017, 1, 1)        \n",
    "df_re10 = wb.get_dataframe(indicators={\"3.1_RE.CONSUMPTION\": \"Renewable energy consumption (TJ)\"}, data_date=data_date10, country = country_id, convert_date= True)  \n",
    "df_re10"
   ]
  },
  {
   "cell_type": "code",
   "execution_count": 28,
   "metadata": {},
   "outputs": [
    {
     "ename": "FileNotFoundError",
     "evalue": "[Errno 2] No such file or directory: 'weather-data/renewable energy consumption data from 2006 to 2016 for each European country/ALB.csv'",
     "output_type": "error",
     "traceback": [
      "\u001b[1;31m---------------------------------------------------------------------------\u001b[0m",
      "\u001b[1;31mFileNotFoundError\u001b[0m                         Traceback (most recent call last)",
      "\u001b[1;32m~\\AppData\\Local\\Temp\\ipykernel_18452\\3327735114.py\u001b[0m in \u001b[0;36m<module>\u001b[1;34m\u001b[0m\n\u001b[0;32m      3\u001b[0m \u001b[1;32mwhile\u001b[0m \u001b[0mj\u001b[0m \u001b[1;33m<\u001b[0m \u001b[0mlen\u001b[0m\u001b[1;33m(\u001b[0m\u001b[0mcountry_id\u001b[0m\u001b[1;33m)\u001b[0m\u001b[1;33m:\u001b[0m\u001b[1;33m\u001b[0m\u001b[1;33m\u001b[0m\u001b[0m\n\u001b[0;32m      4\u001b[0m     \u001b[0mdf_tmp\u001b[0m \u001b[1;33m=\u001b[0m \u001b[0mdf_re10\u001b[0m\u001b[1;33m.\u001b[0m\u001b[0miloc\u001b[0m\u001b[1;33m[\u001b[0m\u001b[0mi\u001b[0m \u001b[1;33m:\u001b[0m \u001b[0mi\u001b[0m\u001b[1;33m+\u001b[0m\u001b[1;36m11\u001b[0m\u001b[1;33m]\u001b[0m\u001b[1;33m\u001b[0m\u001b[1;33m\u001b[0m\u001b[0m\n\u001b[1;32m----> 5\u001b[1;33m     \u001b[0mdf_tmp\u001b[0m\u001b[1;33m.\u001b[0m\u001b[0mto_csv\u001b[0m\u001b[1;33m(\u001b[0m\u001b[0mdata_dir\u001b[0m \u001b[1;33m+\u001b[0m\u001b[1;34m'renewable energy consumption data from 2006 to 2016 for each European country/'\u001b[0m \u001b[1;33m+\u001b[0m \u001b[0mcountry_id\u001b[0m\u001b[1;33m[\u001b[0m\u001b[0mj\u001b[0m\u001b[1;33m]\u001b[0m \u001b[1;33m+\u001b[0m \u001b[1;34m'.csv'\u001b[0m\u001b[1;33m)\u001b[0m\u001b[1;33m\u001b[0m\u001b[1;33m\u001b[0m\u001b[0m\n\u001b[0m\u001b[0;32m      6\u001b[0m     \u001b[0mi\u001b[0m \u001b[1;33m+=\u001b[0m \u001b[1;36m11\u001b[0m\u001b[1;33m\u001b[0m\u001b[1;33m\u001b[0m\u001b[0m\n\u001b[0;32m      7\u001b[0m     \u001b[0mj\u001b[0m \u001b[1;33m+=\u001b[0m \u001b[1;36m1\u001b[0m\u001b[1;33m\u001b[0m\u001b[1;33m\u001b[0m\u001b[0m\n",
      "\u001b[1;32md:\\WorkApp\\Anconda\\envs\\ucl\\lib\\site-packages\\pandas\\core\\generic.py\u001b[0m in \u001b[0;36mto_csv\u001b[1;34m(self, path_or_buf, sep, na_rep, float_format, columns, header, index, index_label, mode, encoding, compression, quoting, quotechar, line_terminator, chunksize, date_format, doublequote, escapechar, decimal, errors, storage_options)\u001b[0m\n\u001b[0;32m   3480\u001b[0m             \u001b[0mdoublequote\u001b[0m\u001b[1;33m=\u001b[0m\u001b[0mdoublequote\u001b[0m\u001b[1;33m,\u001b[0m\u001b[1;33m\u001b[0m\u001b[1;33m\u001b[0m\u001b[0m\n\u001b[0;32m   3481\u001b[0m             \u001b[0mescapechar\u001b[0m\u001b[1;33m=\u001b[0m\u001b[0mescapechar\u001b[0m\u001b[1;33m,\u001b[0m\u001b[1;33m\u001b[0m\u001b[1;33m\u001b[0m\u001b[0m\n\u001b[1;32m-> 3482\u001b[1;33m             \u001b[0mstorage_options\u001b[0m\u001b[1;33m=\u001b[0m\u001b[0mstorage_options\u001b[0m\u001b[1;33m,\u001b[0m\u001b[1;33m\u001b[0m\u001b[1;33m\u001b[0m\u001b[0m\n\u001b[0m\u001b[0;32m   3483\u001b[0m         )\n\u001b[0;32m   3484\u001b[0m \u001b[1;33m\u001b[0m\u001b[0m\n",
      "\u001b[1;32md:\\WorkApp\\Anconda\\envs\\ucl\\lib\\site-packages\\pandas\\io\\formats\\format.py\u001b[0m in \u001b[0;36mto_csv\u001b[1;34m(self, path_or_buf, encoding, sep, columns, index_label, mode, compression, quoting, quotechar, line_terminator, chunksize, date_format, doublequote, escapechar, errors, storage_options)\u001b[0m\n\u001b[0;32m   1103\u001b[0m             \u001b[0mformatter\u001b[0m\u001b[1;33m=\u001b[0m\u001b[0mself\u001b[0m\u001b[1;33m.\u001b[0m\u001b[0mfmt\u001b[0m\u001b[1;33m,\u001b[0m\u001b[1;33m\u001b[0m\u001b[1;33m\u001b[0m\u001b[0m\n\u001b[0;32m   1104\u001b[0m         )\n\u001b[1;32m-> 1105\u001b[1;33m         \u001b[0mcsv_formatter\u001b[0m\u001b[1;33m.\u001b[0m\u001b[0msave\u001b[0m\u001b[1;33m(\u001b[0m\u001b[1;33m)\u001b[0m\u001b[1;33m\u001b[0m\u001b[1;33m\u001b[0m\u001b[0m\n\u001b[0m\u001b[0;32m   1106\u001b[0m \u001b[1;33m\u001b[0m\u001b[0m\n\u001b[0;32m   1107\u001b[0m         \u001b[1;32mif\u001b[0m \u001b[0mcreated_buffer\u001b[0m\u001b[1;33m:\u001b[0m\u001b[1;33m\u001b[0m\u001b[1;33m\u001b[0m\u001b[0m\n",
      "\u001b[1;32md:\\WorkApp\\Anconda\\envs\\ucl\\lib\\site-packages\\pandas\\io\\formats\\csvs.py\u001b[0m in \u001b[0;36msave\u001b[1;34m(self)\u001b[0m\n\u001b[0;32m    241\u001b[0m             \u001b[0merrors\u001b[0m\u001b[1;33m=\u001b[0m\u001b[0mself\u001b[0m\u001b[1;33m.\u001b[0m\u001b[0merrors\u001b[0m\u001b[1;33m,\u001b[0m\u001b[1;33m\u001b[0m\u001b[1;33m\u001b[0m\u001b[0m\n\u001b[0;32m    242\u001b[0m             \u001b[0mcompression\u001b[0m\u001b[1;33m=\u001b[0m\u001b[0mself\u001b[0m\u001b[1;33m.\u001b[0m\u001b[0mcompression\u001b[0m\u001b[1;33m,\u001b[0m\u001b[1;33m\u001b[0m\u001b[1;33m\u001b[0m\u001b[0m\n\u001b[1;32m--> 243\u001b[1;33m             \u001b[0mstorage_options\u001b[0m\u001b[1;33m=\u001b[0m\u001b[0mself\u001b[0m\u001b[1;33m.\u001b[0m\u001b[0mstorage_options\u001b[0m\u001b[1;33m,\u001b[0m\u001b[1;33m\u001b[0m\u001b[1;33m\u001b[0m\u001b[0m\n\u001b[0m\u001b[0;32m    244\u001b[0m         ) as handles:\n\u001b[0;32m    245\u001b[0m \u001b[1;33m\u001b[0m\u001b[0m\n",
      "\u001b[1;32md:\\WorkApp\\Anconda\\envs\\ucl\\lib\\site-packages\\pandas\\io\\common.py\u001b[0m in \u001b[0;36mget_handle\u001b[1;34m(path_or_buf, mode, encoding, compression, memory_map, is_text, errors, storage_options)\u001b[0m\n\u001b[0;32m    705\u001b[0m                 \u001b[0mencoding\u001b[0m\u001b[1;33m=\u001b[0m\u001b[0mioargs\u001b[0m\u001b[1;33m.\u001b[0m\u001b[0mencoding\u001b[0m\u001b[1;33m,\u001b[0m\u001b[1;33m\u001b[0m\u001b[1;33m\u001b[0m\u001b[0m\n\u001b[0;32m    706\u001b[0m                 \u001b[0merrors\u001b[0m\u001b[1;33m=\u001b[0m\u001b[0merrors\u001b[0m\u001b[1;33m,\u001b[0m\u001b[1;33m\u001b[0m\u001b[1;33m\u001b[0m\u001b[0m\n\u001b[1;32m--> 707\u001b[1;33m                 \u001b[0mnewline\u001b[0m\u001b[1;33m=\u001b[0m\u001b[1;34m\"\"\u001b[0m\u001b[1;33m,\u001b[0m\u001b[1;33m\u001b[0m\u001b[1;33m\u001b[0m\u001b[0m\n\u001b[0m\u001b[0;32m    708\u001b[0m             )\n\u001b[0;32m    709\u001b[0m         \u001b[1;32melse\u001b[0m\u001b[1;33m:\u001b[0m\u001b[1;33m\u001b[0m\u001b[1;33m\u001b[0m\u001b[0m\n",
      "\u001b[1;31mFileNotFoundError\u001b[0m: [Errno 2] No such file or directory: 'weather-data/renewable energy consumption data from 2006 to 2016 for each European country/ALB.csv'"
     ]
    }
   ],
   "source": [
    "i = 0\n",
    "j = 0\n",
    "while j < len(country_id):\n",
    "    df_tmp = df_re10.iloc[i : i+11]\n",
    "    df_tmp.to_csv(data_dir +'renewable energy consumption data from 2006 to 2016 for each European country/' + country_id[j] + '.csv')\n",
    "    i += 11\n",
    "    j += 1"
   ]
  }
 ],
 "metadata": {
  "colab": {
   "collapsed_sections": [],
   "name": "LAB1.ipynb",
   "provenance": [
    {
     "file_id": "1HXjyjuj11ovY200lbVrY4ksJrv4eEphn",
     "timestamp": 1603281631972
    }
   ]
  },
  "kernelspec": {
   "display_name": "Python 3.7.13 ('ucl')",
   "language": "python",
   "name": "python3"
  },
  "language_info": {
   "codemirror_mode": {
    "name": "ipython",
    "version": 3
   },
   "file_extension": ".py",
   "mimetype": "text/x-python",
   "name": "python",
   "nbconvert_exporter": "python",
   "pygments_lexer": "ipython3",
   "version": "3.7.13"
  },
  "vscode": {
   "interpreter": {
    "hash": "ff91a95f31a462cf1f59caf2b26a13236b59a80ae8da1223e25e61ecf8f6dd53"
   }
  }
 },
 "nbformat": 4,
 "nbformat_minor": 4
}
